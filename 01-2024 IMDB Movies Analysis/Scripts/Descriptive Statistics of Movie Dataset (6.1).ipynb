{
 "cells": [
  {
   "cell_type": "markdown",
   "id": "6fd68f73",
   "metadata": {},
   "source": [
    "1. Qualitative Variables\n",
    "2. Quantitative Variables"
   ]
  },
  {
   "cell_type": "markdown",
   "id": "94201ffd",
   "metadata": {},
   "source": [
    "# 01 Import Libraries"
   ]
  },
  {
   "cell_type": "code",
   "execution_count": 1,
   "id": "2ee6f3dd",
   "metadata": {},
   "outputs": [],
   "source": [
    "#Import libraries\n",
    "import pandas as pd\n",
    "import numpy as np\n",
    "import os"
   ]
  },
  {
   "cell_type": "code",
   "execution_count": 2,
   "id": "9cdf8968",
   "metadata": {},
   "outputs": [],
   "source": [
    "path = r'C:\\Users\\benar\\CareerFoundry\\01-2024 IMDB Movies Analysis'"
   ]
  },
  {
   "cell_type": "code",
   "execution_count": 3,
   "id": "28fcc835",
   "metadata": {},
   "outputs": [],
   "source": [
    "df_mov = pd.read_csv(os.path.join(path, 'Data', 'Prepared Data', 'Movies_clean.csv'))"
   ]
  },
  {
   "cell_type": "code",
   "execution_count": 4,
   "id": "bac6798c",
   "metadata": {},
   "outputs": [
    {
     "data": {
      "text/html": [
       "<div>\n",
       "<style scoped>\n",
       "    .dataframe tbody tr th:only-of-type {\n",
       "        vertical-align: middle;\n",
       "    }\n",
       "\n",
       "    .dataframe tbody tr th {\n",
       "        vertical-align: top;\n",
       "    }\n",
       "\n",
       "    .dataframe thead th {\n",
       "        text-align: right;\n",
       "    }\n",
       "</style>\n",
       "<table border=\"1\" class=\"dataframe\">\n",
       "  <thead>\n",
       "    <tr style=\"text-align: right;\">\n",
       "      <th></th>\n",
       "      <th>name</th>\n",
       "      <th>rating</th>\n",
       "      <th>genre</th>\n",
       "      <th>year</th>\n",
       "      <th>score</th>\n",
       "      <th>votes</th>\n",
       "      <th>director</th>\n",
       "      <th>writer</th>\n",
       "      <th>star</th>\n",
       "      <th>country</th>\n",
       "      <th>budget</th>\n",
       "      <th>gross</th>\n",
       "      <th>company</th>\n",
       "      <th>runtime</th>\n",
       "    </tr>\n",
       "  </thead>\n",
       "  <tbody>\n",
       "    <tr>\n",
       "      <th>0</th>\n",
       "      <td>The Shining</td>\n",
       "      <td>R</td>\n",
       "      <td>Drama</td>\n",
       "      <td>1980</td>\n",
       "      <td>8.4</td>\n",
       "      <td>927000</td>\n",
       "      <td>Stanley Kubrick</td>\n",
       "      <td>Stephen King</td>\n",
       "      <td>Jack Nicholson</td>\n",
       "      <td>United Kingdom</td>\n",
       "      <td>19000000.0</td>\n",
       "      <td>46998772.0</td>\n",
       "      <td>Warner Bros.</td>\n",
       "      <td>146</td>\n",
       "    </tr>\n",
       "    <tr>\n",
       "      <th>1</th>\n",
       "      <td>The Blue Lagoon</td>\n",
       "      <td>R</td>\n",
       "      <td>Adventure</td>\n",
       "      <td>1980</td>\n",
       "      <td>5.8</td>\n",
       "      <td>65000</td>\n",
       "      <td>Randal Kleiser</td>\n",
       "      <td>Henry De Vere Stacpoole</td>\n",
       "      <td>Brooke Shields</td>\n",
       "      <td>United States</td>\n",
       "      <td>4500000.0</td>\n",
       "      <td>58853106.0</td>\n",
       "      <td>Columbia Pictures</td>\n",
       "      <td>104</td>\n",
       "    </tr>\n",
       "    <tr>\n",
       "      <th>2</th>\n",
       "      <td>Star Wars: Episode V - The Empire Strikes Back</td>\n",
       "      <td>PG</td>\n",
       "      <td>Action</td>\n",
       "      <td>1980</td>\n",
       "      <td>8.7</td>\n",
       "      <td>1200000</td>\n",
       "      <td>Irvin Kershner</td>\n",
       "      <td>Leigh Brackett</td>\n",
       "      <td>Mark Hamill</td>\n",
       "      <td>United States</td>\n",
       "      <td>18000000.0</td>\n",
       "      <td>538375067.0</td>\n",
       "      <td>Lucasfilm</td>\n",
       "      <td>124</td>\n",
       "    </tr>\n",
       "    <tr>\n",
       "      <th>3</th>\n",
       "      <td>Airplane!</td>\n",
       "      <td>PG</td>\n",
       "      <td>Comedy</td>\n",
       "      <td>1980</td>\n",
       "      <td>7.7</td>\n",
       "      <td>221000</td>\n",
       "      <td>Jim Abrahams</td>\n",
       "      <td>Jim Abrahams</td>\n",
       "      <td>Robert Hays</td>\n",
       "      <td>United States</td>\n",
       "      <td>3500000.0</td>\n",
       "      <td>83453539.0</td>\n",
       "      <td>Paramount Pictures</td>\n",
       "      <td>88</td>\n",
       "    </tr>\n",
       "    <tr>\n",
       "      <th>4</th>\n",
       "      <td>Caddyshack</td>\n",
       "      <td>R</td>\n",
       "      <td>Comedy</td>\n",
       "      <td>1980</td>\n",
       "      <td>7.3</td>\n",
       "      <td>108000</td>\n",
       "      <td>Harold Ramis</td>\n",
       "      <td>Brian Doyle-Murray</td>\n",
       "      <td>Chevy Chase</td>\n",
       "      <td>United States</td>\n",
       "      <td>6000000.0</td>\n",
       "      <td>39846344.0</td>\n",
       "      <td>Orion Pictures</td>\n",
       "      <td>98</td>\n",
       "    </tr>\n",
       "  </tbody>\n",
       "</table>\n",
       "</div>"
      ],
      "text/plain": [
       "                                             name rating      genre  year  \\\n",
       "0                                     The Shining      R      Drama  1980   \n",
       "1                                 The Blue Lagoon      R  Adventure  1980   \n",
       "2  Star Wars: Episode V - The Empire Strikes Back     PG     Action  1980   \n",
       "3                                       Airplane!     PG     Comedy  1980   \n",
       "4                                      Caddyshack      R     Comedy  1980   \n",
       "\n",
       "   score    votes         director                   writer            star  \\\n",
       "0    8.4   927000  Stanley Kubrick             Stephen King  Jack Nicholson   \n",
       "1    5.8    65000   Randal Kleiser  Henry De Vere Stacpoole  Brooke Shields   \n",
       "2    8.7  1200000   Irvin Kershner           Leigh Brackett     Mark Hamill   \n",
       "3    7.7   221000     Jim Abrahams             Jim Abrahams     Robert Hays   \n",
       "4    7.3   108000     Harold Ramis       Brian Doyle-Murray     Chevy Chase   \n",
       "\n",
       "          country      budget        gross             company  runtime  \n",
       "0  United Kingdom  19000000.0   46998772.0        Warner Bros.      146  \n",
       "1   United States   4500000.0   58853106.0   Columbia Pictures      104  \n",
       "2   United States  18000000.0  538375067.0           Lucasfilm      124  \n",
       "3   United States   3500000.0   83453539.0  Paramount Pictures       88  \n",
       "4   United States   6000000.0   39846344.0      Orion Pictures       98  "
      ]
     },
     "execution_count": 4,
     "metadata": {},
     "output_type": "execute_result"
    }
   ],
   "source": [
    "df_mov.head()"
   ]
  },
  {
   "cell_type": "markdown",
   "id": "d361b40f",
   "metadata": {},
   "source": [
    "# 01 Descriptive Statistics"
   ]
  },
  {
   "cell_type": "markdown",
   "id": "af9f7e6c",
   "metadata": {},
   "source": [
    "## Qualitative Variables"
   ]
  },
  {
   "cell_type": "markdown",
   "id": "b8795c19",
   "metadata": {},
   "source": [
    "### name column"
   ]
  },
  {
   "cell_type": "code",
   "execution_count": 20,
   "id": "889b5e2c",
   "metadata": {},
   "outputs": [
    {
     "data": {
      "text/plain": [
       "7511"
      ]
     },
     "execution_count": 20,
     "metadata": {},
     "output_type": "execute_result"
    }
   ],
   "source": [
    "df_mov['name'].nunique()"
   ]
  },
  {
   "cell_type": "code",
   "execution_count": 48,
   "id": "014d1a0b",
   "metadata": {},
   "outputs": [
    {
     "data": {
      "text/plain": [
       "0             Anna\n",
       "1      Fever Pitch\n",
       "2           Hamlet\n",
       "3         Hercules\n",
       "4    Nobody's Fool\n",
       "5            Pulse\n",
       "6            Venom\n",
       "Name: name, dtype: object"
      ]
     },
     "execution_count": 48,
     "metadata": {},
     "output_type": "execute_result"
    }
   ],
   "source": [
    "df_mov['name'].mode()"
   ]
  },
  {
   "cell_type": "markdown",
   "id": "4f1b451a",
   "metadata": {},
   "source": [
    "### rating column"
   ]
  },
  {
   "cell_type": "code",
   "execution_count": 22,
   "id": "b7e1e90c",
   "metadata": {},
   "outputs": [
    {
     "data": {
      "text/plain": [
       "10"
      ]
     },
     "execution_count": 22,
     "metadata": {},
     "output_type": "execute_result"
    }
   ],
   "source": [
    "df_mov['rating'].nunique()"
   ]
  },
  {
   "cell_type": "code",
   "execution_count": 49,
   "id": "e77179e1",
   "metadata": {},
   "outputs": [
    {
     "data": {
      "text/plain": [
       "0    R\n",
       "Name: rating, dtype: object"
      ]
     },
     "execution_count": 49,
     "metadata": {},
     "output_type": "execute_result"
    }
   ],
   "source": [
    "df_mov['rating'].mode()"
   ]
  },
  {
   "cell_type": "markdown",
   "id": "d58e31bd",
   "metadata": {},
   "source": [
    "### genre column"
   ]
  },
  {
   "cell_type": "code",
   "execution_count": 24,
   "id": "09e854e8",
   "metadata": {},
   "outputs": [
    {
     "data": {
      "text/plain": [
       "19"
      ]
     },
     "execution_count": 24,
     "metadata": {},
     "output_type": "execute_result"
    }
   ],
   "source": [
    "df_mov['genre'].nunique()"
   ]
  },
  {
   "cell_type": "code",
   "execution_count": 50,
   "id": "33f12009",
   "metadata": {},
   "outputs": [
    {
     "data": {
      "text/plain": [
       "0    Comedy\n",
       "Name: genre, dtype: object"
      ]
     },
     "execution_count": 50,
     "metadata": {},
     "output_type": "execute_result"
    }
   ],
   "source": [
    "df_mov['genre'].mode()"
   ]
  },
  {
   "cell_type": "markdown",
   "id": "ed01dd8a",
   "metadata": {},
   "source": [
    "### score column"
   ]
  },
  {
   "cell_type": "code",
   "execution_count": 27,
   "id": "723e9cb5",
   "metadata": {},
   "outputs": [
    {
     "data": {
      "text/plain": [
       "72"
      ]
     },
     "execution_count": 27,
     "metadata": {},
     "output_type": "execute_result"
    }
   ],
   "source": [
    "df_mov['score'].nunique()"
   ]
  },
  {
   "cell_type": "code",
   "execution_count": 51,
   "id": "c5dbeb7f",
   "metadata": {},
   "outputs": [
    {
     "data": {
      "text/plain": [
       "0    6.6\n",
       "Name: score, dtype: float64"
      ]
     },
     "execution_count": 51,
     "metadata": {},
     "output_type": "execute_result"
    }
   ],
   "source": [
    "df_mov['score'].mode()"
   ]
  },
  {
   "cell_type": "markdown",
   "id": "57aeb353",
   "metadata": {},
   "source": [
    "### director column"
   ]
  },
  {
   "cell_type": "code",
   "execution_count": 29,
   "id": "bc74da84",
   "metadata": {},
   "outputs": [
    {
     "data": {
      "text/plain": [
       "2959"
      ]
     },
     "execution_count": 29,
     "metadata": {},
     "output_type": "execute_result"
    }
   ],
   "source": [
    "df_mov['director'].nunique()"
   ]
  },
  {
   "cell_type": "code",
   "execution_count": 52,
   "id": "23f22661",
   "metadata": {},
   "outputs": [
    {
     "data": {
      "text/plain": [
       "0    Woody Allen\n",
       "Name: director, dtype: object"
      ]
     },
     "execution_count": 52,
     "metadata": {},
     "output_type": "execute_result"
    }
   ],
   "source": [
    "df_mov['director'].mode()"
   ]
  },
  {
   "cell_type": "markdown",
   "id": "d13437a1",
   "metadata": {},
   "source": [
    "### writer column"
   ]
  },
  {
   "cell_type": "code",
   "execution_count": 31,
   "id": "27433e53",
   "metadata": {},
   "outputs": [
    {
     "data": {
      "text/plain": [
       "4535"
      ]
     },
     "execution_count": 31,
     "metadata": {},
     "output_type": "execute_result"
    }
   ],
   "source": [
    "df_mov['writer'].nunique()"
   ]
  },
  {
   "cell_type": "code",
   "execution_count": 53,
   "id": "51978d4e",
   "metadata": {},
   "outputs": [
    {
     "data": {
      "text/plain": [
       "0    Woody Allen\n",
       "Name: writer, dtype: object"
      ]
     },
     "execution_count": 53,
     "metadata": {},
     "output_type": "execute_result"
    }
   ],
   "source": [
    "df_mov['writer'].mode()"
   ]
  },
  {
   "cell_type": "markdown",
   "id": "06993a5f",
   "metadata": {},
   "source": [
    "### star column"
   ]
  },
  {
   "cell_type": "code",
   "execution_count": 34,
   "id": "fa0dcd39",
   "metadata": {},
   "outputs": [
    {
     "data": {
      "text/plain": [
       "2814"
      ]
     },
     "execution_count": 34,
     "metadata": {},
     "output_type": "execute_result"
    }
   ],
   "source": [
    "df_mov['star'].nunique()"
   ]
  },
  {
   "cell_type": "code",
   "execution_count": 54,
   "id": "e2a4c7cc",
   "metadata": {},
   "outputs": [
    {
     "data": {
      "text/plain": [
       "0    Nicolas Cage\n",
       "Name: star, dtype: object"
      ]
     },
     "execution_count": 54,
     "metadata": {},
     "output_type": "execute_result"
    }
   ],
   "source": [
    "df_mov['star'].mode()"
   ]
  },
  {
   "cell_type": "markdown",
   "id": "1304a530",
   "metadata": {},
   "source": [
    "### country column"
   ]
  },
  {
   "cell_type": "code",
   "execution_count": 37,
   "id": "bc7f4378",
   "metadata": {},
   "outputs": [
    {
     "data": {
      "text/plain": [
       "59"
      ]
     },
     "execution_count": 37,
     "metadata": {},
     "output_type": "execute_result"
    }
   ],
   "source": [
    "df_mov['country'].nunique()"
   ]
  },
  {
   "cell_type": "code",
   "execution_count": 55,
   "id": "f7dfa690",
   "metadata": {},
   "outputs": [
    {
     "data": {
      "text/plain": [
       "0    United States\n",
       "Name: country, dtype: object"
      ]
     },
     "execution_count": 55,
     "metadata": {},
     "output_type": "execute_result"
    }
   ],
   "source": [
    "df_mov['country'].mode()"
   ]
  },
  {
   "cell_type": "markdown",
   "id": "d095fc2b",
   "metadata": {},
   "source": [
    "### company column"
   ]
  },
  {
   "cell_type": "code",
   "execution_count": 39,
   "id": "702c6baf",
   "metadata": {},
   "outputs": [
    {
     "data": {
      "text/plain": [
       "2390"
      ]
     },
     "execution_count": 39,
     "metadata": {},
     "output_type": "execute_result"
    }
   ],
   "source": [
    "df_mov['company'].nunique()"
   ]
  },
  {
   "cell_type": "code",
   "execution_count": 56,
   "id": "d065e9a6",
   "metadata": {},
   "outputs": [
    {
     "data": {
      "text/plain": [
       "0    Universal Pictures\n",
       "Name: company, dtype: object"
      ]
     },
     "execution_count": 56,
     "metadata": {},
     "output_type": "execute_result"
    }
   ],
   "source": [
    "df_mov['company'].mode()"
   ]
  },
  {
   "cell_type": "markdown",
   "id": "341948c2",
   "metadata": {},
   "source": [
    "## Quantitative Variables"
   ]
  },
  {
   "cell_type": "markdown",
   "id": "e36ecdf6",
   "metadata": {},
   "source": [
    "### year column"
   ]
  },
  {
   "cell_type": "code",
   "execution_count": 41,
   "id": "ae091054",
   "metadata": {},
   "outputs": [
    {
     "data": {
      "text/plain": [
       "1980"
      ]
     },
     "execution_count": 41,
     "metadata": {},
     "output_type": "execute_result"
    }
   ],
   "source": [
    "df_mov['year'].min()"
   ]
  },
  {
   "cell_type": "code",
   "execution_count": 42,
   "id": "40a17160",
   "metadata": {},
   "outputs": [
    {
     "data": {
      "text/plain": [
       "2020"
      ]
     },
     "execution_count": 42,
     "metadata": {},
     "output_type": "execute_result"
    }
   ],
   "source": [
    "df_mov['year'].max()"
   ]
  },
  {
   "cell_type": "code",
   "execution_count": 43,
   "id": "b68e1250",
   "metadata": {},
   "outputs": [
    {
     "data": {
      "text/plain": [
       "2000.4028955262816"
      ]
     },
     "execution_count": 43,
     "metadata": {},
     "output_type": "execute_result"
    }
   ],
   "source": [
    "df_mov['year'].mean()"
   ]
  },
  {
   "cell_type": "code",
   "execution_count": 44,
   "id": "1556cb0f",
   "metadata": {},
   "outputs": [
    {
     "data": {
      "text/plain": [
       "2000.0"
      ]
     },
     "execution_count": 44,
     "metadata": {},
     "output_type": "execute_result"
    }
   ],
   "source": [
    "df_mov['year'].median()"
   ]
  },
  {
   "cell_type": "code",
   "execution_count": 46,
   "id": "761d8599",
   "metadata": {},
   "outputs": [
    {
     "data": {
      "text/plain": [
       "0     1985\n",
       "1     1986\n",
       "2     1987\n",
       "3     1988\n",
       "4     1989\n",
       "5     1990\n",
       "6     1991\n",
       "7     1992\n",
       "8     1993\n",
       "9     1994\n",
       "10    1995\n",
       "11    1996\n",
       "12    1997\n",
       "13    1998\n",
       "14    1999\n",
       "15    2000\n",
       "16    2001\n",
       "17    2002\n",
       "18    2003\n",
       "19    2004\n",
       "20    2005\n",
       "21    2006\n",
       "22    2007\n",
       "23    2008\n",
       "24    2009\n",
       "25    2010\n",
       "26    2011\n",
       "27    2012\n",
       "28    2013\n",
       "29    2014\n",
       "30    2015\n",
       "31    2016\n",
       "32    2017\n",
       "33    2018\n",
       "34    2019\n",
       "Name: year, dtype: int64"
      ]
     },
     "execution_count": 46,
     "metadata": {},
     "output_type": "execute_result"
    }
   ],
   "source": [
    "df_mov['year'].mode()"
   ]
  },
  {
   "cell_type": "code",
   "execution_count": null,
   "id": "25c9e3cc",
   "metadata": {},
   "outputs": [],
   "source": [
    "df_mov['year'].value_counts()"
   ]
  },
  {
   "cell_type": "markdown",
   "id": "2cf37393",
   "metadata": {},
   "source": [
    "### votes column"
   ]
  },
  {
   "cell_type": "code",
   "execution_count": 58,
   "id": "bd80e64b",
   "metadata": {},
   "outputs": [
    {
     "data": {
      "text/plain": [
       "7"
      ]
     },
     "execution_count": 58,
     "metadata": {},
     "output_type": "execute_result"
    }
   ],
   "source": [
    "df_mov['votes'].min()"
   ]
  },
  {
   "cell_type": "code",
   "execution_count": 59,
   "id": "5ed27368",
   "metadata": {},
   "outputs": [
    {
     "data": {
      "text/plain": [
       "2400000"
      ]
     },
     "execution_count": 59,
     "metadata": {},
     "output_type": "execute_result"
    }
   ],
   "source": [
    "df_mov['votes'].max()"
   ]
  },
  {
   "cell_type": "code",
   "execution_count": 60,
   "id": "a46f52b8",
   "metadata": {},
   "outputs": [
    {
     "data": {
      "text/plain": [
       "88085.5238033129"
      ]
     },
     "execution_count": 60,
     "metadata": {},
     "output_type": "execute_result"
    }
   ],
   "source": [
    "df_mov['votes'].mean()"
   ]
  },
  {
   "cell_type": "code",
   "execution_count": 61,
   "id": "c5f6579d",
   "metadata": {},
   "outputs": [
    {
     "data": {
      "text/plain": [
       "33000.0"
      ]
     },
     "execution_count": 61,
     "metadata": {},
     "output_type": "execute_result"
    }
   ],
   "source": [
    "df_mov['votes'].median()"
   ]
  },
  {
   "cell_type": "code",
   "execution_count": 62,
   "id": "f601769b",
   "metadata": {},
   "outputs": [
    {
     "data": {
      "text/plain": [
       "0    13000\n",
       "Name: votes, dtype: int64"
      ]
     },
     "execution_count": 62,
     "metadata": {},
     "output_type": "execute_result"
    }
   ],
   "source": [
    "df_mov['votes'].mode()"
   ]
  },
  {
   "cell_type": "markdown",
   "id": "f9e5a13c",
   "metadata": {},
   "source": [
    "### budget column"
   ]
  },
  {
   "cell_type": "code",
   "execution_count": 63,
   "id": "949632da",
   "metadata": {},
   "outputs": [
    {
     "data": {
      "text/plain": [
       "3000.0"
      ]
     },
     "execution_count": 63,
     "metadata": {},
     "output_type": "execute_result"
    }
   ],
   "source": [
    "df_mov['budget'].min()"
   ]
  },
  {
   "cell_type": "code",
   "execution_count": 64,
   "id": "fe6b0473",
   "metadata": {},
   "outputs": [
    {
     "data": {
      "text/plain": [
       "356000000.0"
      ]
     },
     "execution_count": 64,
     "metadata": {},
     "output_type": "execute_result"
    }
   ],
   "source": [
    "df_mov['budget'].max()"
   ]
  },
  {
   "cell_type": "code",
   "execution_count": 65,
   "id": "c230ef62",
   "metadata": {},
   "outputs": [
    {
     "data": {
      "text/plain": [
       "35614321.46798836"
      ]
     },
     "execution_count": 65,
     "metadata": {},
     "output_type": "execute_result"
    }
   ],
   "source": [
    "df_mov['budget'].mean()"
   ]
  },
  {
   "cell_type": "code",
   "execution_count": 66,
   "id": "d849d866",
   "metadata": {},
   "outputs": [
    {
     "data": {
      "text/plain": [
       "20500000.0"
      ]
     },
     "execution_count": 66,
     "metadata": {},
     "output_type": "execute_result"
    }
   ],
   "source": [
    "df_mov['budget'].median()"
   ]
  },
  {
   "cell_type": "code",
   "execution_count": 67,
   "id": "4d1ea8a2",
   "metadata": {},
   "outputs": [
    {
     "data": {
      "text/plain": [
       "0    20000000.0\n",
       "Name: budget, dtype: float64"
      ]
     },
     "execution_count": 67,
     "metadata": {},
     "output_type": "execute_result"
    }
   ],
   "source": [
    "df_mov['budget'].mode()"
   ]
  },
  {
   "cell_type": "markdown",
   "id": "45479fbe",
   "metadata": {},
   "source": [
    "### gross column"
   ]
  },
  {
   "cell_type": "code",
   "execution_count": 68,
   "id": "fa04dcd5",
   "metadata": {},
   "outputs": [
    {
     "data": {
      "text/plain": [
       "309.0"
      ]
     },
     "execution_count": 68,
     "metadata": {},
     "output_type": "execute_result"
    }
   ],
   "source": [
    "df_mov['gross'].min()"
   ]
  },
  {
   "cell_type": "code",
   "execution_count": 69,
   "id": "00f365f4",
   "metadata": {},
   "outputs": [
    {
     "data": {
      "text/plain": [
       "2847246203.0"
      ]
     },
     "execution_count": 69,
     "metadata": {},
     "output_type": "execute_result"
    }
   ],
   "source": [
    "df_mov['gross'].max()"
   ]
  },
  {
   "cell_type": "code",
   "execution_count": 70,
   "id": "1e5df203",
   "metadata": {},
   "outputs": [
    {
     "data": {
      "text/plain": [
       "78516440.01029274"
      ]
     },
     "execution_count": 70,
     "metadata": {},
     "output_type": "execute_result"
    }
   ],
   "source": [
    "df_mov['gross'].mean()"
   ]
  },
  {
   "cell_type": "code",
   "execution_count": 71,
   "id": "c1060b65",
   "metadata": {},
   "outputs": [
    {
     "data": {
      "text/plain": [
       "20208496.0"
      ]
     },
     "execution_count": 71,
     "metadata": {},
     "output_type": "execute_result"
    }
   ],
   "source": [
    "df_mov['gross'].median()"
   ]
  },
  {
   "cell_type": "code",
   "execution_count": 72,
   "id": "d9e7063d",
   "metadata": {},
   "outputs": [
    {
     "data": {
      "text/plain": [
       "0    14000000.0\n",
       "Name: gross, dtype: float64"
      ]
     },
     "execution_count": 72,
     "metadata": {},
     "output_type": "execute_result"
    }
   ],
   "source": [
    "df_mov['gross'].mode()"
   ]
  },
  {
   "cell_type": "markdown",
   "id": "48684bcc",
   "metadata": {},
   "source": [
    "### runtime column"
   ]
  },
  {
   "cell_type": "code",
   "execution_count": 73,
   "id": "be8bf2d3",
   "metadata": {},
   "outputs": [
    {
     "data": {
      "text/plain": [
       "55"
      ]
     },
     "execution_count": 73,
     "metadata": {},
     "output_type": "execute_result"
    }
   ],
   "source": [
    "df_mov['runtime'].min()"
   ]
  },
  {
   "cell_type": "code",
   "execution_count": 74,
   "id": "69684bf4",
   "metadata": {},
   "outputs": [
    {
     "data": {
      "text/plain": [
       "366"
      ]
     },
     "execution_count": 74,
     "metadata": {},
     "output_type": "execute_result"
    }
   ],
   "source": [
    "df_mov['runtime'].max()"
   ]
  },
  {
   "cell_type": "code",
   "execution_count": 75,
   "id": "52acc7f6",
   "metadata": {},
   "outputs": [
    {
     "data": {
      "text/plain": [
       "107.25929307421417"
      ]
     },
     "execution_count": 75,
     "metadata": {},
     "output_type": "execute_result"
    }
   ],
   "source": [
    "df_mov['runtime'].mean()"
   ]
  },
  {
   "cell_type": "code",
   "execution_count": 76,
   "id": "1d31d858",
   "metadata": {},
   "outputs": [
    {
     "data": {
      "text/plain": [
       "104.0"
      ]
     },
     "execution_count": 76,
     "metadata": {},
     "output_type": "execute_result"
    }
   ],
   "source": [
    "df_mov['runtime'].median()"
   ]
  },
  {
   "cell_type": "code",
   "execution_count": 77,
   "id": "a59a7e6d",
   "metadata": {},
   "outputs": [
    {
     "data": {
      "text/plain": [
       "0    97\n",
       "Name: runtime, dtype: int64"
      ]
     },
     "execution_count": 77,
     "metadata": {},
     "output_type": "execute_result"
    }
   ],
   "source": [
    "df_mov['runtime'].mode()"
   ]
  }
 ],
 "metadata": {
  "kernelspec": {
   "display_name": "Python 3 (ipykernel)",
   "language": "python",
   "name": "python3"
  },
  "language_info": {
   "codemirror_mode": {
    "name": "ipython",
    "version": 3
   },
   "file_extension": ".py",
   "mimetype": "text/x-python",
   "name": "python",
   "nbconvert_exporter": "python",
   "pygments_lexer": "ipython3",
   "version": "3.11.4"
  }
 },
 "nbformat": 4,
 "nbformat_minor": 5
}
