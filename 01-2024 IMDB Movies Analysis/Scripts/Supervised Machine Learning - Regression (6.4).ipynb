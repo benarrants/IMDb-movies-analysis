{
 "cells": [
  {
   "cell_type": "markdown",
   "id": "a8cbe6aa",
   "metadata": {},
   "source": [
    "# Supervised Machine Learning - Regression"
   ]
  },
  {
   "cell_type": "markdown",
   "id": "bd7d2266",
   "metadata": {},
   "source": [
    "1. Import Libraries\n",
    "2. Import Data\n",
    "3. Cleaning Data\n",
    "4. Preparing Data\n",
    "5. Regression Testing\n",
    "6. Insights"
   ]
  },
  {
   "cell_type": "markdown",
   "id": "e83dbdf7",
   "metadata": {},
   "source": [
    "# 1 Import Libraries"
   ]
  },
  {
   "cell_type": "code",
   "execution_count": 1,
   "id": "2ff0fbce",
   "metadata": {},
   "outputs": [],
   "source": [
    "import pandas as pd\n",
    "import numpy as np\n",
    "import seaborn as sns\n",
    "import matplotlib\n",
    "import matplotlib.pyplot as plt\n",
    "import os\n",
    "import sklearn\n",
    "from sklearn.model_selection import train_test_split \n",
    "from sklearn.linear_model import LinearRegression\n",
    "from sklearn.metrics import mean_squared_error, r2_score"
   ]
  },
  {
   "cell_type": "markdown",
   "id": "46f1ede0",
   "metadata": {},
   "source": [
    "# 2 Import Data"
   ]
  },
  {
   "cell_type": "code",
   "execution_count": 2,
   "id": "8c875c1d",
   "metadata": {},
   "outputs": [],
   "source": [
    "path = r'C:\\Users\\benar\\CareerFoundry\\01-2024 IMDB Movies Analysis'"
   ]
  },
  {
   "cell_type": "code",
   "execution_count": 3,
   "id": "1c9e8cdb",
   "metadata": {},
   "outputs": [],
   "source": [
    "df_mov = pd.read_csv(os.path.join(path, 'Data', 'Prepared Data', 'Movies_clean.csv'))"
   ]
  },
  {
   "cell_type": "code",
   "execution_count": 4,
   "id": "43156a81",
   "metadata": {},
   "outputs": [
    {
     "data": {
      "text/html": [
       "<div>\n",
       "<style scoped>\n",
       "    .dataframe tbody tr th:only-of-type {\n",
       "        vertical-align: middle;\n",
       "    }\n",
       "\n",
       "    .dataframe tbody tr th {\n",
       "        vertical-align: top;\n",
       "    }\n",
       "\n",
       "    .dataframe thead th {\n",
       "        text-align: right;\n",
       "    }\n",
       "</style>\n",
       "<table border=\"1\" class=\"dataframe\">\n",
       "  <thead>\n",
       "    <tr style=\"text-align: right;\">\n",
       "      <th></th>\n",
       "      <th>name</th>\n",
       "      <th>rating</th>\n",
       "      <th>genre</th>\n",
       "      <th>year</th>\n",
       "      <th>score</th>\n",
       "      <th>votes</th>\n",
       "      <th>director</th>\n",
       "      <th>writer</th>\n",
       "      <th>star</th>\n",
       "      <th>country</th>\n",
       "      <th>budget</th>\n",
       "      <th>gross</th>\n",
       "      <th>company</th>\n",
       "      <th>runtime</th>\n",
       "    </tr>\n",
       "  </thead>\n",
       "  <tbody>\n",
       "    <tr>\n",
       "      <th>0</th>\n",
       "      <td>The Shining</td>\n",
       "      <td>R</td>\n",
       "      <td>Drama</td>\n",
       "      <td>1980</td>\n",
       "      <td>8.4</td>\n",
       "      <td>927000</td>\n",
       "      <td>Stanley Kubrick</td>\n",
       "      <td>Stephen King</td>\n",
       "      <td>Jack Nicholson</td>\n",
       "      <td>United Kingdom</td>\n",
       "      <td>19000000.0</td>\n",
       "      <td>46998772.0</td>\n",
       "      <td>Warner Bros.</td>\n",
       "      <td>146</td>\n",
       "    </tr>\n",
       "    <tr>\n",
       "      <th>1</th>\n",
       "      <td>The Blue Lagoon</td>\n",
       "      <td>R</td>\n",
       "      <td>Adventure</td>\n",
       "      <td>1980</td>\n",
       "      <td>5.8</td>\n",
       "      <td>65000</td>\n",
       "      <td>Randal Kleiser</td>\n",
       "      <td>Henry De Vere Stacpoole</td>\n",
       "      <td>Brooke Shields</td>\n",
       "      <td>United States</td>\n",
       "      <td>4500000.0</td>\n",
       "      <td>58853106.0</td>\n",
       "      <td>Columbia Pictures</td>\n",
       "      <td>104</td>\n",
       "    </tr>\n",
       "    <tr>\n",
       "      <th>2</th>\n",
       "      <td>Star Wars: Episode V - The Empire Strikes Back</td>\n",
       "      <td>PG</td>\n",
       "      <td>Action</td>\n",
       "      <td>1980</td>\n",
       "      <td>8.7</td>\n",
       "      <td>1200000</td>\n",
       "      <td>Irvin Kershner</td>\n",
       "      <td>Leigh Brackett</td>\n",
       "      <td>Mark Hamill</td>\n",
       "      <td>United States</td>\n",
       "      <td>18000000.0</td>\n",
       "      <td>538375067.0</td>\n",
       "      <td>Lucasfilm</td>\n",
       "      <td>124</td>\n",
       "    </tr>\n",
       "    <tr>\n",
       "      <th>3</th>\n",
       "      <td>Airplane!</td>\n",
       "      <td>PG</td>\n",
       "      <td>Comedy</td>\n",
       "      <td>1980</td>\n",
       "      <td>7.7</td>\n",
       "      <td>221000</td>\n",
       "      <td>Jim Abrahams</td>\n",
       "      <td>Jim Abrahams</td>\n",
       "      <td>Robert Hays</td>\n",
       "      <td>United States</td>\n",
       "      <td>3500000.0</td>\n",
       "      <td>83453539.0</td>\n",
       "      <td>Paramount Pictures</td>\n",
       "      <td>88</td>\n",
       "    </tr>\n",
       "    <tr>\n",
       "      <th>4</th>\n",
       "      <td>Caddyshack</td>\n",
       "      <td>R</td>\n",
       "      <td>Comedy</td>\n",
       "      <td>1980</td>\n",
       "      <td>7.3</td>\n",
       "      <td>108000</td>\n",
       "      <td>Harold Ramis</td>\n",
       "      <td>Brian Doyle-Murray</td>\n",
       "      <td>Chevy Chase</td>\n",
       "      <td>United States</td>\n",
       "      <td>6000000.0</td>\n",
       "      <td>39846344.0</td>\n",
       "      <td>Orion Pictures</td>\n",
       "      <td>98</td>\n",
       "    </tr>\n",
       "  </tbody>\n",
       "</table>\n",
       "</div>"
      ],
      "text/plain": [
       "                                             name rating      genre  year  \\\n",
       "0                                     The Shining      R      Drama  1980   \n",
       "1                                 The Blue Lagoon      R  Adventure  1980   \n",
       "2  Star Wars: Episode V - The Empire Strikes Back     PG     Action  1980   \n",
       "3                                       Airplane!     PG     Comedy  1980   \n",
       "4                                      Caddyshack      R     Comedy  1980   \n",
       "\n",
       "   score    votes         director                   writer            star  \\\n",
       "0    8.4   927000  Stanley Kubrick             Stephen King  Jack Nicholson   \n",
       "1    5.8    65000   Randal Kleiser  Henry De Vere Stacpoole  Brooke Shields   \n",
       "2    8.7  1200000   Irvin Kershner           Leigh Brackett     Mark Hamill   \n",
       "3    7.7   221000     Jim Abrahams             Jim Abrahams     Robert Hays   \n",
       "4    7.3   108000     Harold Ramis       Brian Doyle-Murray     Chevy Chase   \n",
       "\n",
       "          country      budget        gross             company  runtime  \n",
       "0  United Kingdom  19000000.0   46998772.0        Warner Bros.      146  \n",
       "1   United States   4500000.0   58853106.0   Columbia Pictures      104  \n",
       "2   United States  18000000.0  538375067.0           Lucasfilm      124  \n",
       "3   United States   3500000.0   83453539.0  Paramount Pictures       88  \n",
       "4   United States   6000000.0   39846344.0      Orion Pictures       98  "
      ]
     },
     "execution_count": 4,
     "metadata": {},
     "output_type": "execute_result"
    }
   ],
   "source": [
    "df_mov.head()"
   ]
  },
  {
   "cell_type": "markdown",
   "id": "64d4577c",
   "metadata": {},
   "source": [
    "# 3 Cleaning Data"
   ]
  },
  {
   "cell_type": "code",
   "execution_count": 5,
   "id": "85cbc979",
   "metadata": {},
   "outputs": [
    {
     "data": {
      "text/plain": [
       "name           0\n",
       "rating         0\n",
       "genre          0\n",
       "year           0\n",
       "score          0\n",
       "votes          0\n",
       "director       0\n",
       "writer         0\n",
       "star           0\n",
       "country        0\n",
       "budget      2169\n",
       "gross        186\n",
       "company        0\n",
       "runtime        0\n",
       "dtype: int64"
      ]
     },
     "execution_count": 5,
     "metadata": {},
     "output_type": "execute_result"
    }
   ],
   "source": [
    "df_mov.isnull().sum()"
   ]
  },
  {
   "cell_type": "code",
   "execution_count": 6,
   "id": "c9b68fd1",
   "metadata": {},
   "outputs": [],
   "source": [
    "#replacing missing values in gross with median\n",
    "df_mov['gross'].fillna(df_mov['gross'].median(), inplace = True)"
   ]
  },
  {
   "cell_type": "code",
   "execution_count": 7,
   "id": "c7872443",
   "metadata": {},
   "outputs": [
    {
     "data": {
      "text/plain": [
       "name           0\n",
       "rating         0\n",
       "genre          0\n",
       "year           0\n",
       "score          0\n",
       "votes          0\n",
       "director       0\n",
       "writer         0\n",
       "star           0\n",
       "country        0\n",
       "budget      2169\n",
       "gross          0\n",
       "company        0\n",
       "runtime        0\n",
       "dtype: int64"
      ]
     },
     "execution_count": 7,
     "metadata": {},
     "output_type": "execute_result"
    }
   ],
   "source": [
    "df_mov.isnull().sum()"
   ]
  },
  {
   "cell_type": "code",
   "execution_count": 8,
   "id": "49b34182",
   "metadata": {},
   "outputs": [],
   "source": [
    "# replace missing values in budget column with median values grouped by year\n",
    "df_mov['budget'].fillna(df_mov.groupby('year')['budget'].transform('median'), inplace = True)"
   ]
  },
  {
   "cell_type": "code",
   "execution_count": 9,
   "id": "085bba35",
   "metadata": {},
   "outputs": [
    {
     "data": {
      "text/plain": [
       "name        0\n",
       "rating      0\n",
       "genre       0\n",
       "year        0\n",
       "score       0\n",
       "votes       0\n",
       "director    0\n",
       "writer      0\n",
       "star        0\n",
       "country     0\n",
       "budget      0\n",
       "gross       0\n",
       "company     0\n",
       "runtime     0\n",
       "dtype: int64"
      ]
     },
     "execution_count": 9,
     "metadata": {},
     "output_type": "execute_result"
    }
   ],
   "source": [
    "df_mov.isnull().sum()"
   ]
  },
  {
   "cell_type": "code",
   "execution_count": 10,
   "id": "db4c1b94",
   "metadata": {},
   "outputs": [],
   "source": [
    "#9 Export clean files\n",
    "df_mov.to_csv(os.path.join(path, 'Data','Prepared Data', 'Movies_clean_wrangled.csv'))"
   ]
  },
  {
   "cell_type": "markdown",
   "id": "2a1ae248",
   "metadata": {},
   "source": [
    "# 4 Preparing Data"
   ]
  },
  {
   "cell_type": "code",
   "execution_count": 11,
   "id": "35128460",
   "metadata": {},
   "outputs": [
    {
     "data": {
      "image/png": "[encoded data removed]",
      "text/plain": [
       "<Figure size 640x480 with 1 Axes>"
      ]
     },
     "metadata": {},
     "output_type": "display_data"
    }
   ],
   "source": [
    "# Scatter plot of budget vs gross, a very intriguing correlation to explore\n",
    "df_mov.plot(x = 'budget', y='gross',style='o')\n",
    "plt.title('Movie Budget vs Gross')  \n",
    "plt.xlabel('budget (in hundred millions)')  \n",
    "plt.ylabel('gross (in billions)')  \n",
    "plt.show()"
   ]
  },
  {
   "cell_type": "markdown",
   "id": "2cdd3926",
   "metadata": {},
   "source": [
    "Prediction Hypothesis: The higher the budget, the higher the gross revenue"
   ]
  },
  {
   "cell_type": "code",
   "execution_count": 12,
   "id": "50ea1d7c",
   "metadata": {},
   "outputs": [],
   "source": [
    "# Creating Numpy arrays\n",
    "X = df_mov['budget'].values.reshape(-1,1)\n",
    "y = df_mov['gross'].values.reshape(-1,1)"
   ]
  },
  {
   "cell_type": "code",
   "execution_count": 13,
   "id": "b2a54036",
   "metadata": {},
   "outputs": [
    {
     "data": {
      "text/plain": [
       "array([[1.900e+07],\n",
       "       [4.500e+06],\n",
       "       [1.800e+07],\n",
       "       ...,\n",
       "       [5.875e+04],\n",
       "       [1.500e+04],\n",
       "       [4.350e+07]])"
      ]
     },
     "execution_count": 13,
     "metadata": {},
     "output_type": "execute_result"
    }
   ],
   "source": [
    "X"
   ]
  },
  {
   "cell_type": "code",
   "execution_count": 14,
   "id": "00ac15b4",
   "metadata": {},
   "outputs": [
    {
     "data": {
      "text/plain": [
       "array([[4.69987720e+07],\n",
       "       [5.88531060e+07],\n",
       "       [5.38375067e+08],\n",
       "       ...,\n",
       "       [2.02084960e+07],\n",
       "       [2.02084960e+07],\n",
       "       [2.02084960e+07]])"
      ]
     },
     "execution_count": 14,
     "metadata": {},
     "output_type": "execute_result"
    }
   ],
   "source": [
    "y"
   ]
  },
  {
   "cell_type": "code",
   "execution_count": 15,
   "id": "6cb82efb",
   "metadata": {},
   "outputs": [],
   "source": [
    "# Splitting data into train and test sets\n",
    "X_train, X_test, y_train, y_test = train_test_split(X, y, test_size=0.3, random_state=0)"
   ]
  },
  {
   "cell_type": "markdown",
   "id": "eb14f268",
   "metadata": {},
   "source": [
    "# 5 Regression Testing"
   ]
  },
  {
   "cell_type": "code",
   "execution_count": 16,
   "id": "ab5abba9",
   "metadata": {},
   "outputs": [],
   "source": [
    "#Creating regression object\n",
    "regression = LinearRegression()"
   ]
  },
  {
   "cell_type": "code",
   "execution_count": 17,
   "id": "ef2cb4e8",
   "metadata": {},
   "outputs": [
    {
     "data": {
      "text/html": [
       "<style>#sk-container-id-1 {color: black;}#sk-container-id-1 pre{padding: 0;}#sk-container-id-1 div.sk-toggleable {background-color: white;}#sk-container-id-1 label.sk-toggleable__label {cursor: pointer;display: block;width: 100%;margin-bottom: 0;padding: 0.3em;box-sizing: border-box;text-align: center;}#sk-container-id-1 label.sk-toggleable__label-arrow:before {content: \"▸\";float: left;margin-right: 0.25em;color: #696969;}#sk-container-id-1 label.sk-toggleable__label-arrow:hover:before {color: black;}#sk-container-id-1 div.sk-estimator:hover label.sk-toggleable__label-arrow:before {color: black;}#sk-container-id-1 div.sk-toggleable__content {max-height: 0;max-width: 0;overflow: hidden;text-align: left;background-color: #f0f8ff;}#sk-container-id-1 div.sk-toggleable__content pre {margin: 0.2em;color: black;border-radius: 0.25em;background-color: #f0f8ff;}#sk-container-id-1 input.sk-toggleable__control:checked~div.sk-toggleable__content {max-height: 200px;max-width: 100%;overflow: auto;}#sk-container-id-1 input.sk-toggleable__control:checked~label.sk-toggleable__label-arrow:before {content: \"▾\";}#sk-container-id-1 div.sk-estimator input.sk-toggleable__control:checked~label.sk-toggleable__label {background-color: #d4ebff;}#sk-container-id-1 div.sk-label input.sk-toggleable__control:checked~label.sk-toggleable__label {background-color: #d4ebff;}#sk-container-id-1 input.sk-hidden--visually {border: 0;clip: rect(1px 1px 1px 1px);clip: rect(1px, 1px, 1px, 1px);height: 1px;margin: -1px;overflow: hidden;padding: 0;position: absolute;width: 1px;}#sk-container-id-1 div.sk-estimator {font-family: monospace;background-color: #f0f8ff;border: 1px dotted black;border-radius: 0.25em;box-sizing: border-box;margin-bottom: 0.5em;}#sk-container-id-1 div.sk-estimator:hover {background-color: #d4ebff;}#sk-container-id-1 div.sk-parallel-item::after {content: \"\";width: 100%;border-bottom: 1px solid gray;flex-grow: 1;}#sk-container-id-1 div.sk-label:hover label.sk-toggleable__label {background-color: #d4ebff;}#sk-container-id-1 div.sk-serial::before {content: \"\";position: absolute;border-left: 1px solid gray;box-sizing: border-box;top: 0;bottom: 0;left: 50%;z-index: 0;}#sk-container-id-1 div.sk-serial {display: flex;flex-direction: column;align-items: center;background-color: white;padding-right: 0.2em;padding-left: 0.2em;position: relative;}#sk-container-id-1 div.sk-item {position: relative;z-index: 1;}#sk-container-id-1 div.sk-parallel {display: flex;align-items: stretch;justify-content: center;background-color: white;position: relative;}#sk-container-id-1 div.sk-item::before, #sk-container-id-1 div.sk-parallel-item::before {content: \"\";position: absolute;border-left: 1px solid gray;box-sizing: border-box;top: 0;bottom: 0;left: 50%;z-index: -1;}#sk-container-id-1 div.sk-parallel-item {display: flex;flex-direction: column;z-index: 1;position: relative;background-color: white;}#sk-container-id-1 div.sk-parallel-item:first-child::after {align-self: flex-end;width: 50%;}#sk-container-id-1 div.sk-parallel-item:last-child::after {align-self: flex-start;width: 50%;}#sk-container-id-1 div.sk-parallel-item:only-child::after {width: 0;}#sk-container-id-1 div.sk-dashed-wrapped {border: 1px dashed gray;margin: 0 0.4em 0.5em 0.4em;box-sizing: border-box;padding-bottom: 0.4em;background-color: white;}#sk-container-id-1 div.sk-label label {font-family: monospace;font-weight: bold;display: inline-block;line-height: 1.2em;}#sk-container-id-1 div.sk-label-container {text-align: center;}#sk-container-id-1 div.sk-container {/* jupyter's `normalize.less` sets `[hidden] { display: none; }` but bootstrap.min.css set `[hidden] { display: none !important; }` so we also need the `!important` here to be able to override the default hidden behavior on the sphinx rendered scikit-learn.org. See: https://github.com/scikit-learn/scikit-learn/issues/21755 */display: inline-block !important;position: relative;}#sk-container-id-1 div.sk-text-repr-fallback {display: none;}</style><div id=\"sk-container-id-1\" class=\"sk-top-container\"><div class=\"sk-text-repr-fallback\"><pre>LinearRegression()</pre><b>In a Jupyter environment, please rerun this cell to show the HTML representation or trust the notebook. <br />On GitHub, the HTML representation is unable to render, please try loading this page with nbviewer.org.</b></div><div class=\"sk-container\" hidden><div class=\"sk-item\"><div class=\"sk-estimator sk-toggleable\"><input class=\"sk-toggleable__control sk-hidden--visually\" id=\"sk-estimator-id-1\" type=\"checkbox\" checked><label for=\"sk-estimator-id-1\" class=\"sk-toggleable__label sk-toggleable__label-arrow\">LinearRegression</label><div class=\"sk-toggleable__content\"><pre>LinearRegression()</pre></div></div></div></div></div>"
      ],
      "text/plain": [
       "LinearRegression()"
      ]
     },
     "execution_count": 17,
     "metadata": {},
     "output_type": "execute_result"
    }
   ],
   "source": [
    "# fitting regression object onto training set\n",
    "regression.fit(X_train, y_train)"
   ]
  },
  {
   "cell_type": "code",
   "execution_count": 18,
   "id": "4bc3dbfd",
   "metadata": {},
   "outputs": [],
   "source": [
    "# Predict y values\n",
    "y_predicted = regression.predict(X_test)"
   ]
  },
  {
   "cell_type": "code",
   "execution_count": 45,
   "id": "4c5ec0c1",
   "metadata": {},
   "outputs": [
    {
     "data": {
      "image/png": "[encoded data removed]",
      "text/plain": [
       "<Figure size 640x480 with 1 Axes>"
      ]
     },
     "metadata": {},
     "output_type": "display_data"
    }
   ],
   "source": [
    "# plot of model on test set\n",
    "\n",
    "plt.scatter(X_test, y_test, color='gray', s = 15)\n",
    "plt.plot(X_test, y_predicted, color='red', linewidth =3)\n",
    "plt.title('Budget vs Gross Revenue (Test set)')\n",
    "plt.xlabel('budget (in hundred millions)')\n",
    "plt.ylabel('gross (in billions)')\n",
    "\n",
    "#Exporting viz\n",
    "plt.savefig(os.path.join(path, 'Analysis','Visualizations', 'regression_test_budget_gross.png'))\n",
    "\n",
    "plt.show()"
   ]
  },
  {
   "cell_type": "markdown",
   "id": "a90513a7",
   "metadata": {},
   "source": [
    "The line appears to fit the data well, though there are a lot of outliers far away from the regression line that would suggest it doesn't fit as well as it appears"
   ]
  },
  {
   "cell_type": "code",
   "execution_count": 20,
   "id": "fa470ca1",
   "metadata": {},
   "outputs": [],
   "source": [
    "#  creating performance statistic objects\n",
    "rmse = mean_squared_error(y_test, y_predicted)\n",
    "r2 = r2_score(y_test, y_predicted)"
   ]
  },
  {
   "cell_type": "code",
   "execution_count": 21,
   "id": "15be2d2d",
   "metadata": {},
   "outputs": [
    {
     "name": "stdout",
     "output_type": "stream",
     "text": [
      "Slope: [[3.33876203]]\n",
      "Mean squared error:  1.2989871017517968e+16\n",
      "R2 score:  0.5541742977755053\n"
     ]
    }
   ],
   "source": [
    "# printing summary statistics\n",
    "print('Slope:' ,regression.coef_)\n",
    "print('Mean squared error: ', rmse)\n",
    "print('R2 score: ', r2)"
   ]
  },
  {
   "cell_type": "code",
   "execution_count": 22,
   "id": "02034e7c",
   "metadata": {},
   "outputs": [
    {
     "data": {
      "text/plain": [
       "array([[9.02333999e+07],\n",
       "       [7.35395898e+07],\n",
       "       [2.01193974e+07],\n",
       "       ...,\n",
       "       [2.34581594e+07],\n",
       "       [8.68252182e+04],\n",
       "       [7.02008278e+07]])"
      ]
     },
     "execution_count": 22,
     "metadata": {},
     "output_type": "execute_result"
    }
   ],
   "source": [
    "y_predicted"
   ]
  },
  {
   "cell_type": "code",
   "execution_count": 23,
   "id": "3ac90fb7",
   "metadata": {},
   "outputs": [
    {
     "data": {
      "text/html": [
       "<div>\n",
       "<style scoped>\n",
       "    .dataframe tbody tr th:only-of-type {\n",
       "        vertical-align: middle;\n",
       "    }\n",
       "\n",
       "    .dataframe tbody tr th {\n",
       "        vertical-align: top;\n",
       "    }\n",
       "\n",
       "    .dataframe thead th {\n",
       "        text-align: right;\n",
       "    }\n",
       "</style>\n",
       "<table border=\"1\" class=\"dataframe\">\n",
       "  <thead>\n",
       "    <tr style=\"text-align: right;\">\n",
       "      <th></th>\n",
       "      <th>Actual</th>\n",
       "      <th>Predicted</th>\n",
       "    </tr>\n",
       "  </thead>\n",
       "  <tbody>\n",
       "    <tr>\n",
       "      <th>0</th>\n",
       "      <td>78201830.0</td>\n",
       "      <td>9.023340e+07</td>\n",
       "    </tr>\n",
       "    <tr>\n",
       "      <th>1</th>\n",
       "      <td>14273033.0</td>\n",
       "      <td>7.353959e+07</td>\n",
       "    </tr>\n",
       "    <tr>\n",
       "      <th>2</th>\n",
       "      <td>39673161.0</td>\n",
       "      <td>2.011940e+07</td>\n",
       "    </tr>\n",
       "    <tr>\n",
       "      <th>3</th>\n",
       "      <td>48017402.0</td>\n",
       "      <td>2.679692e+07</td>\n",
       "    </tr>\n",
       "    <tr>\n",
       "      <th>4</th>\n",
       "      <td>2819485.0</td>\n",
       "      <td>2.345816e+07</td>\n",
       "    </tr>\n",
       "    <tr>\n",
       "      <th>5</th>\n",
       "      <td>14296438.0</td>\n",
       "      <td>9.023340e+07</td>\n",
       "    </tr>\n",
       "    <tr>\n",
       "      <th>6</th>\n",
       "      <td>2005840.0</td>\n",
       "      <td>2.345816e+07</td>\n",
       "    </tr>\n",
       "    <tr>\n",
       "      <th>7</th>\n",
       "      <td>429028.0</td>\n",
       "      <td>-9.929461e+06</td>\n",
       "    </tr>\n",
       "    <tr>\n",
       "      <th>8</th>\n",
       "      <td>8481254.0</td>\n",
       "      <td>7.353959e+07</td>\n",
       "    </tr>\n",
       "    <tr>\n",
       "      <th>9</th>\n",
       "      <td>31070211.0</td>\n",
       "      <td>7.353959e+07</td>\n",
       "    </tr>\n",
       "    <tr>\n",
       "      <th>10</th>\n",
       "      <td>14936407.0</td>\n",
       "      <td>6.352330e+07</td>\n",
       "    </tr>\n",
       "    <tr>\n",
       "      <th>11</th>\n",
       "      <td>33556631.0</td>\n",
       "      <td>6.764349e+06</td>\n",
       "    </tr>\n",
       "    <tr>\n",
       "      <th>12</th>\n",
       "      <td>20440.0</td>\n",
       "      <td>5.684578e+07</td>\n",
       "    </tr>\n",
       "    <tr>\n",
       "      <th>13</th>\n",
       "      <td>40059672.0</td>\n",
       "      <td>1.611288e+07</td>\n",
       "    </tr>\n",
       "    <tr>\n",
       "      <th>14</th>\n",
       "      <td>20251411.0</td>\n",
       "      <td>6.352330e+07</td>\n",
       "    </tr>\n",
       "    <tr>\n",
       "      <th>15</th>\n",
       "      <td>38039850.0</td>\n",
       "      <td>4.015197e+07</td>\n",
       "    </tr>\n",
       "    <tr>\n",
       "      <th>16</th>\n",
       "      <td>19770475.0</td>\n",
       "      <td>6.764349e+06</td>\n",
       "    </tr>\n",
       "    <tr>\n",
       "      <th>17</th>\n",
       "      <td>213719942.0</td>\n",
       "      <td>3.406406e+08</td>\n",
       "    </tr>\n",
       "    <tr>\n",
       "      <th>18</th>\n",
       "      <td>20208496.0</td>\n",
       "      <td>-2.637286e+07</td>\n",
       "    </tr>\n",
       "    <tr>\n",
       "      <th>19</th>\n",
       "      <td>247275374.0</td>\n",
       "      <td>3.013568e+07</td>\n",
       "    </tr>\n",
       "    <tr>\n",
       "      <th>20</th>\n",
       "      <td>5728953.0</td>\n",
       "      <td>-2.161513e+07</td>\n",
       "    </tr>\n",
       "    <tr>\n",
       "      <th>21</th>\n",
       "      <td>131426169.0</td>\n",
       "      <td>2.571715e+08</td>\n",
       "    </tr>\n",
       "    <tr>\n",
       "      <th>22</th>\n",
       "      <td>39491975.0</td>\n",
       "      <td>4.015197e+07</td>\n",
       "    </tr>\n",
       "    <tr>\n",
       "      <th>23</th>\n",
       "      <td>311312624.0</td>\n",
       "      <td>2.571715e+08</td>\n",
       "    </tr>\n",
       "    <tr>\n",
       "      <th>24</th>\n",
       "      <td>369330363.0</td>\n",
       "      <td>1.770412e+08</td>\n",
       "    </tr>\n",
       "    <tr>\n",
       "      <th>25</th>\n",
       "      <td>349822765.0</td>\n",
       "      <td>3.990689e+08</td>\n",
       "    </tr>\n",
       "    <tr>\n",
       "      <th>26</th>\n",
       "      <td>878199.0</td>\n",
       "      <td>7.353959e+07</td>\n",
       "    </tr>\n",
       "    <tr>\n",
       "      <th>27</th>\n",
       "      <td>200512643.0</td>\n",
       "      <td>7.353959e+07</td>\n",
       "    </tr>\n",
       "    <tr>\n",
       "      <th>28</th>\n",
       "      <td>5406879.0</td>\n",
       "      <td>3.425587e+06</td>\n",
       "    </tr>\n",
       "    <tr>\n",
       "      <th>29</th>\n",
       "      <td>17355263.0</td>\n",
       "      <td>1.010311e+07</td>\n",
       "    </tr>\n",
       "  </tbody>\n",
       "</table>\n",
       "</div>"
      ],
      "text/plain": [
       "         Actual     Predicted\n",
       "0    78201830.0  9.023340e+07\n",
       "1    14273033.0  7.353959e+07\n",
       "2    39673161.0  2.011940e+07\n",
       "3    48017402.0  2.679692e+07\n",
       "4     2819485.0  2.345816e+07\n",
       "5    14296438.0  9.023340e+07\n",
       "6     2005840.0  2.345816e+07\n",
       "7      429028.0 -9.929461e+06\n",
       "8     8481254.0  7.353959e+07\n",
       "9    31070211.0  7.353959e+07\n",
       "10   14936407.0  6.352330e+07\n",
       "11   33556631.0  6.764349e+06\n",
       "12      20440.0  5.684578e+07\n",
       "13   40059672.0  1.611288e+07\n",
       "14   20251411.0  6.352330e+07\n",
       "15   38039850.0  4.015197e+07\n",
       "16   19770475.0  6.764349e+06\n",
       "17  213719942.0  3.406406e+08\n",
       "18   20208496.0 -2.637286e+07\n",
       "19  247275374.0  3.013568e+07\n",
       "20    5728953.0 -2.161513e+07\n",
       "21  131426169.0  2.571715e+08\n",
       "22   39491975.0  4.015197e+07\n",
       "23  311312624.0  2.571715e+08\n",
       "24  369330363.0  1.770412e+08\n",
       "25  349822765.0  3.990689e+08\n",
       "26     878199.0  7.353959e+07\n",
       "27  200512643.0  7.353959e+07\n",
       "28    5406879.0  3.425587e+06\n",
       "29   17355263.0  1.010311e+07"
      ]
     },
     "execution_count": 23,
     "metadata": {},
     "output_type": "execute_result"
    }
   ],
   "source": [
    "# creating dataframe of actual vs predicted y values\n",
    "data = pd.DataFrame({'Actual': y_test.flatten(), 'Predicted': y_predicted.flatten()})\n",
    "data.head(30)"
   ]
  },
  {
   "cell_type": "markdown",
   "id": "9779b556",
   "metadata": {},
   "source": [
    "# 6 Insights"
   ]
  },
  {
   "cell_type": "markdown",
   "id": "ab8d4ff7",
   "metadata": {},
   "source": [
    "It's pretty clear that the model did not perform stellar on the test set. This is most evident when looking at the mean squared error, or the dataframe of actual vs predicted y values. There is a very large variance in the dataset, especially for the gross variable, and so this large range of values and variance definitely skews the model so that it is tough to fit.\n",
    "\n",
    "A solution to make the model better might be reached by eliminating outliers and extreme values, but that takes away from very real results that should still be included in the model. Otherwise there definitely would be introduced bias into the model.\n",
    "\n",
    "Overall, perhaps this relationship can be predicted through another method"
   ]
  }
 ],
 "metadata": {
  "kernelspec": {
   "display_name": "Python 3 (ipykernel)",
   "language": "python",
   "name": "python3"
  },
  "language_info": {
   "codemirror_mode": {
    "name": "ipython",
    "version": 3
   },
   "file_extension": ".py",
   "mimetype": "text/x-python",
   "name": "python",
   "nbconvert_exporter": "python",
   "pygments_lexer": "ipython3",
   "version": "3.11.4"
  }
 },
 "nbformat": 4,
 "nbformat_minor": 5
}
